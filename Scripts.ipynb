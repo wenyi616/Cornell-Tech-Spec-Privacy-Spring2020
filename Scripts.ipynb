{
 "cells": [
  {
   "cell_type": "markdown",
   "metadata": {},
   "source": [
    "# Scraping pdf"
   ]
  },
  {
   "cell_type": "code",
   "execution_count": 1,
   "metadata": {},
   "outputs": [],
   "source": [
    "import PyPDF2"
   ]
  },
  {
   "cell_type": "code",
   "execution_count": 37,
   "metadata": {},
   "outputs": [],
   "source": [
    "def read_and_write_pdf(fileName):\n",
    "    keys = [\"publish\", \"produc\", \"test\", \"launch\",\n",
    "        \"help\", \"research\", \"advice\", \"gather\", \"guidance\", \"monetary\", \"inquir\", \"resolut\"]\n",
    "    fileNameFull = fileName + '.pdf'\n",
    "    pdfFileObj = open(fileNameFull, 'rb')\n",
    "    pdfReader = PyPDF2.PdfFileReader(pdfFileObj)\n",
    "    pageNum = pdfReader.numPages\n",
    "    text = []\n",
    "    for i in range(pageNum):\n",
    "        pageObj = pdfReader.getPage(i)\n",
    "        text.append(pageObj.extractText())\n",
    "    \n",
    "    key_sts = []\n",
    "    for t in text:\n",
    "        sts = t.replace('\\n', '').replace('No. ','No.').replace('Nos. ', 'Nos.').split('. ')\n",
    "        for s in sts:\n",
    "            for k in keys:\n",
    "                if k in s.lower():\n",
    "                    key_sts.append(s)\n",
    "    txtFileName = fileName + '.txt'\n",
    "    with open(txtFileName, 'w') as f:\n",
    "        for item in key_sts:\n",
    "            f.write(\"%s\\n\" % item)"
   ]
  },
  {
   "cell_type": "code",
   "execution_count": 1,
   "metadata": {},
   "outputs": [],
   "source": [
    "import pandas as pd"
   ]
  },
  {
   "cell_type": "code",
   "execution_count": 2,
   "metadata": {},
   "outputs": [],
   "source": [
    "df = pd.read_excel(\"buget-hr-fine-complaints.xlsx\")"
   ]
  },
  {
   "cell_type": "code",
   "execution_count": 3,
   "metadata": {
    "scrolled": true
   },
   "outputs": [
    {
     "data": {
      "text/plain": [
       "Index(['Country', 'Budget (Euros)', 'HR (number)', 'Unnamed: 3',\n",
       "       '# of Fines (as of Oct 2019)', '# of Fines (as of Nov 2019)',\n",
       "       '# of Fines (as of Dec 2019)', '# of Fines (as of May 2020)',\n",
       "       '# of Fines (as of Oct 2020)', 'Total Fines',\n",
       "       '# of GDPR Complaints (as of Oct 2019)',\n",
       "       '# of GDPR Complaints (as of Nov 2019)',\n",
       "       '# of GDPR Complaints (as of Dec 2019)',\n",
       "       '# Complaints (as of May 2020)', '# of Complaints (as of Oct 2020)',\n",
       "       'Total Complaints', 'Fined big tech?', 'Unnamed: 17', 'Unnamed: 18',\n",
       "       'Unnamed: 19', 'Unnamed: 20', 'Conversion'],\n",
       "      dtype='object')"
      ]
     },
     "execution_count": 3,
     "metadata": {},
     "output_type": "execute_result"
    }
   ],
   "source": [
    "df.columns"
   ]
  },
  {
   "cell_type": "code",
   "execution_count": 3,
   "metadata": {},
   "outputs": [],
   "source": [
    "df_temp = df[['Budget (Euros)', 'HR (number)', 'Total Fines','Total Complaints']]"
   ]
  },
  {
   "cell_type": "markdown",
   "metadata": {},
   "source": [
    "# Pearson coefficients"
   ]
  },
  {
   "cell_type": "markdown",
   "metadata": {},
   "source": [
    "## Pairwise pearson coefficients"
   ]
  },
  {
   "cell_type": "code",
   "execution_count": 4,
   "metadata": {
    "scrolled": false
   },
   "outputs": [
    {
     "data": {
      "text/html": [
       "<div>\n",
       "<style scoped>\n",
       "    .dataframe tbody tr th:only-of-type {\n",
       "        vertical-align: middle;\n",
       "    }\n",
       "\n",
       "    .dataframe tbody tr th {\n",
       "        vertical-align: top;\n",
       "    }\n",
       "\n",
       "    .dataframe thead th {\n",
       "        text-align: right;\n",
       "    }\n",
       "</style>\n",
       "<table border=\"1\" class=\"dataframe\">\n",
       "  <thead>\n",
       "    <tr style=\"text-align: right;\">\n",
       "      <th></th>\n",
       "      <th>Budget (Euros)</th>\n",
       "      <th>HR (number)</th>\n",
       "      <th>Total Fines</th>\n",
       "      <th>Total Complaints</th>\n",
       "    </tr>\n",
       "  </thead>\n",
       "  <tbody>\n",
       "    <tr>\n",
       "      <th>Budget (Euros)</th>\n",
       "      <td>1.000000</td>\n",
       "      <td>0.966734</td>\n",
       "      <td>0.628245</td>\n",
       "      <td>0.917254</td>\n",
       "    </tr>\n",
       "    <tr>\n",
       "      <th>HR (number)</th>\n",
       "      <td>0.966734</td>\n",
       "      <td>1.000000</td>\n",
       "      <td>0.617611</td>\n",
       "      <td>0.939843</td>\n",
       "    </tr>\n",
       "    <tr>\n",
       "      <th>Total Fines</th>\n",
       "      <td>0.628245</td>\n",
       "      <td>0.617611</td>\n",
       "      <td>1.000000</td>\n",
       "      <td>0.468738</td>\n",
       "    </tr>\n",
       "    <tr>\n",
       "      <th>Total Complaints</th>\n",
       "      <td>0.917254</td>\n",
       "      <td>0.939843</td>\n",
       "      <td>0.468738</td>\n",
       "      <td>1.000000</td>\n",
       "    </tr>\n",
       "  </tbody>\n",
       "</table>\n",
       "</div>"
      ],
      "text/plain": [
       "                  Budget (Euros)  HR (number)  Total Fines  Total Complaints\n",
       "Budget (Euros)          1.000000     0.966734     0.628245          0.917254\n",
       "HR (number)             0.966734     1.000000     0.617611          0.939843\n",
       "Total Fines             0.628245     0.617611     1.000000          0.468738\n",
       "Total Complaints        0.917254     0.939843     0.468738          1.000000"
      ]
     },
     "execution_count": 4,
     "metadata": {},
     "output_type": "execute_result"
    }
   ],
   "source": [
    "df[['Budget (Euros)', 'HR (number)', 'Total Fines','Total Complaints']].corr()"
   ]
  },
  {
   "cell_type": "code",
   "execution_count": 11,
   "metadata": {},
   "outputs": [],
   "source": [
    "# df_temp.rename('Budget', 'Staff', 'Fines', 'Complaints')\n",
    "df_temp = df_temp.set_axis(['Budget', 'Staff', 'Fines', 'Complaints'], axis=1, inplace=False)"
   ]
  },
  {
   "cell_type": "markdown",
   "metadata": {},
   "source": [
    "## Pearson coefficients with p values"
   ]
  },
  {
   "cell_type": "code",
   "execution_count": 6,
   "metadata": {},
   "outputs": [],
   "source": [
    "import scipy.stats\n",
    "import statsmodels.formula.api as smf"
   ]
  },
  {
   "cell_type": "code",
   "execution_count": 18,
   "metadata": {},
   "outputs": [
    {
     "data": {
      "text/plain": [
       "(0.6282453104843603, 0.00020137167395129944)"
      ]
     },
     "execution_count": 18,
     "metadata": {},
     "output_type": "execute_result"
    }
   ],
   "source": [
    "scipy.stats.pearsonr(df_temp['Budget (Euros)'], df_temp['Total Fines'])"
   ]
  },
  {
   "cell_type": "code",
   "execution_count": 19,
   "metadata": {},
   "outputs": [
    {
     "data": {
      "text/plain": [
       "(0.6176108063047674, 0.00027670719204635376)"
      ]
     },
     "execution_count": 19,
     "metadata": {},
     "output_type": "execute_result"
    }
   ],
   "source": [
    "scipy.stats.pearsonr(df_temp['HR (number)'], df_temp['Total Fines'])"
   ]
  },
  {
   "cell_type": "code",
   "execution_count": 22,
   "metadata": {
    "scrolled": true
   },
   "outputs": [
    {
     "data": {
      "text/plain": [
       "(0.46873751271313363, 0.008982397198999622)"
      ]
     },
     "execution_count": 22,
     "metadata": {},
     "output_type": "execute_result"
    }
   ],
   "source": [
    "scipy.stats.pearsonr(df_temp['Total Complaints'], df_temp['Total Fines'])"
   ]
  },
  {
   "cell_type": "markdown",
   "metadata": {},
   "source": [
    "# Linear regressions"
   ]
  },
  {
   "cell_type": "markdown",
   "metadata": {},
   "source": [
    "Full linear regression y = budgets, x = fines"
   ]
  },
  {
   "cell_type": "code",
   "execution_count": 13,
   "metadata": {},
   "outputs": [],
   "source": [
    "lm = smf.OLS(df_temp.Budget, df_temp.Fines).fit()"
   ]
  },
  {
   "cell_type": "code",
   "execution_count": 14,
   "metadata": {},
   "outputs": [
    {
     "data": {
      "text/plain": [
       "0.530216491652072"
      ]
     },
     "execution_count": 14,
     "metadata": {},
     "output_type": "execute_result"
    }
   ],
   "source": [
    "lm.rsquared"
   ]
  },
  {
   "cell_type": "code",
   "execution_count": 16,
   "metadata": {
    "scrolled": true
   },
   "outputs": [
    {
     "name": "stdout",
     "output_type": "stream",
     "text": [
      "                            OLS Regression Results                            \n",
      "==============================================================================\n",
      "Dep. Variable:                 Budget   R-squared:                       0.530\n",
      "Model:                            OLS   Adj. R-squared:                  0.514\n",
      "Method:                 Least Squares   F-statistic:                     32.73\n",
      "Date:                Mon, 12 Oct 2020   Prob (F-statistic):           3.43e-06\n",
      "Time:                        12:13:27   Log-Likelihood:                -534.23\n",
      "No. Observations:                  30   AIC:                             1070.\n",
      "Df Residuals:                      29   BIC:                             1072.\n",
      "Df Model:                           1                                         \n",
      "Covariance Type:            nonrobust                                         \n",
      "==============================================================================\n",
      "                 coef    std err          t      P>|t|      [0.025      0.975]\n",
      "------------------------------------------------------------------------------\n",
      "Fines       2.831e+05   4.95e+04      5.721      0.000    1.82e+05    3.84e+05\n",
      "==============================================================================\n",
      "Omnibus:                       22.148   Durbin-Watson:                   1.316\n",
      "Prob(Omnibus):                  0.000   Jarque-Bera (JB):               40.854\n",
      "Skew:                           1.583   Prob(JB):                     1.34e-09\n",
      "Kurtosis:                       7.760   Cond. No.                         1.00\n",
      "==============================================================================\n",
      "\n",
      "Warnings:\n",
      "[1] Standard Errors assume that the covariance matrix of the errors is correctly specified.\n"
     ]
    }
   ],
   "source": [
    "print(lm.summary())"
   ]
  },
  {
   "cell_type": "markdown",
   "metadata": {},
   "source": [
    "## Find residuals using studentized residuals"
   ]
  },
  {
   "cell_type": "code",
   "execution_count": 18,
   "metadata": {},
   "outputs": [],
   "source": [
    "infl = lm.get_influence()"
   ]
  },
  {
   "cell_type": "code",
   "execution_count": 24,
   "metadata": {},
   "outputs": [
    {
     "data": {
      "text/plain": [
       "array([-0.63567762,  0.27111749, -0.31213435,  0.06443489, -0.48876127,\n",
       "        0.10674288,  0.246919  ,  0.01356545,  0.15371336,  0.96493103,\n",
       "        2.22848336, -0.25024766, -0.71862439,  0.12579463,  1.14630079,\n",
       "        1.59857873, -0.35090787, -0.0159875 ,  0.40229038, -0.61986148,\n",
       "        1.25947029,  0.19150333,  0.24084153,  0.01253408, -0.8145001 ,\n",
       "       -0.12296943,  0.16534447, -2.14915855,  0.52610012,  5.37340944])"
      ]
     },
     "execution_count": 24,
     "metadata": {},
     "output_type": "execute_result"
    }
   ],
   "source": [
    "infl.resid_studentized_external"
   ]
  },
  {
   "cell_type": "code",
   "execution_count": 27,
   "metadata": {},
   "outputs": [],
   "source": [
    "df_outliers_by_budget = {\"Country\":df.Country, \"Budget_External_Studentized_Resid\": infl.resid_studentized_external}"
   ]
  },
  {
   "cell_type": "code",
   "execution_count": 29,
   "metadata": {},
   "outputs": [],
   "source": [
    "df_outliers_by_budget = pd.DataFrame(data=df_outliers_by_budget)"
   ]
  },
  {
   "cell_type": "code",
   "execution_count": 30,
   "metadata": {
    "scrolled": true
   },
   "outputs": [
    {
     "data": {
      "text/html": [
       "<div>\n",
       "<style scoped>\n",
       "    .dataframe tbody tr th:only-of-type {\n",
       "        vertical-align: middle;\n",
       "    }\n",
       "\n",
       "    .dataframe tbody tr th {\n",
       "        vertical-align: top;\n",
       "    }\n",
       "\n",
       "    .dataframe thead th {\n",
       "        text-align: right;\n",
       "    }\n",
       "</style>\n",
       "<table border=\"1\" class=\"dataframe\">\n",
       "  <thead>\n",
       "    <tr style=\"text-align: right;\">\n",
       "      <th></th>\n",
       "      <th>Country</th>\n",
       "      <th>Budget_External_Studentized_Resid</th>\n",
       "    </tr>\n",
       "  </thead>\n",
       "  <tbody>\n",
       "    <tr>\n",
       "      <th>0</th>\n",
       "      <td>Austria</td>\n",
       "      <td>-0.635678</td>\n",
       "    </tr>\n",
       "    <tr>\n",
       "      <th>1</th>\n",
       "      <td>Belgium</td>\n",
       "      <td>0.271117</td>\n",
       "    </tr>\n",
       "    <tr>\n",
       "      <th>2</th>\n",
       "      <td>Bulgaria</td>\n",
       "      <td>-0.312134</td>\n",
       "    </tr>\n",
       "    <tr>\n",
       "      <th>3</th>\n",
       "      <td>Croatia</td>\n",
       "      <td>0.064435</td>\n",
       "    </tr>\n",
       "    <tr>\n",
       "      <th>4</th>\n",
       "      <td>Cyprus</td>\n",
       "      <td>-0.488761</td>\n",
       "    </tr>\n",
       "    <tr>\n",
       "      <th>5</th>\n",
       "      <td>Czech Rep.</td>\n",
       "      <td>0.106743</td>\n",
       "    </tr>\n",
       "    <tr>\n",
       "      <th>6</th>\n",
       "      <td>Denmark</td>\n",
       "      <td>0.246919</td>\n",
       "    </tr>\n",
       "    <tr>\n",
       "      <th>7</th>\n",
       "      <td>Estonia</td>\n",
       "      <td>0.013565</td>\n",
       "    </tr>\n",
       "    <tr>\n",
       "      <th>8</th>\n",
       "      <td>Finland</td>\n",
       "      <td>0.153713</td>\n",
       "    </tr>\n",
       "    <tr>\n",
       "      <th>9</th>\n",
       "      <td>France</td>\n",
       "      <td>0.964931</td>\n",
       "    </tr>\n",
       "    <tr>\n",
       "      <th>10</th>\n",
       "      <td>Germany</td>\n",
       "      <td>2.228483</td>\n",
       "    </tr>\n",
       "    <tr>\n",
       "      <th>11</th>\n",
       "      <td>Greece</td>\n",
       "      <td>-0.250248</td>\n",
       "    </tr>\n",
       "    <tr>\n",
       "      <th>12</th>\n",
       "      <td>Hungary</td>\n",
       "      <td>-0.718624</td>\n",
       "    </tr>\n",
       "    <tr>\n",
       "      <th>13</th>\n",
       "      <td>Iceland</td>\n",
       "      <td>0.125795</td>\n",
       "    </tr>\n",
       "    <tr>\n",
       "      <th>14</th>\n",
       "      <td>Ireland</td>\n",
       "      <td>1.146301</td>\n",
       "    </tr>\n",
       "    <tr>\n",
       "      <th>15</th>\n",
       "      <td>Italy</td>\n",
       "      <td>1.598579</td>\n",
       "    </tr>\n",
       "    <tr>\n",
       "      <th>16</th>\n",
       "      <td>Latvia</td>\n",
       "      <td>-0.350908</td>\n",
       "    </tr>\n",
       "    <tr>\n",
       "      <th>17</th>\n",
       "      <td>Lithuania</td>\n",
       "      <td>-0.015987</td>\n",
       "    </tr>\n",
       "    <tr>\n",
       "      <th>18</th>\n",
       "      <td>Luxembourg</td>\n",
       "      <td>0.402290</td>\n",
       "    </tr>\n",
       "    <tr>\n",
       "      <th>19</th>\n",
       "      <td>Malta</td>\n",
       "      <td>-0.619861</td>\n",
       "    </tr>\n",
       "    <tr>\n",
       "      <th>20</th>\n",
       "      <td>Netherlands</td>\n",
       "      <td>1.259470</td>\n",
       "    </tr>\n",
       "    <tr>\n",
       "      <th>21</th>\n",
       "      <td>Norway</td>\n",
       "      <td>0.191503</td>\n",
       "    </tr>\n",
       "    <tr>\n",
       "      <th>22</th>\n",
       "      <td>Poland</td>\n",
       "      <td>0.240842</td>\n",
       "    </tr>\n",
       "    <tr>\n",
       "      <th>23</th>\n",
       "      <td>Portugal</td>\n",
       "      <td>0.012534</td>\n",
       "    </tr>\n",
       "    <tr>\n",
       "      <th>24</th>\n",
       "      <td>Romania</td>\n",
       "      <td>-0.814500</td>\n",
       "    </tr>\n",
       "    <tr>\n",
       "      <th>25</th>\n",
       "      <td>Slovakia</td>\n",
       "      <td>-0.122969</td>\n",
       "    </tr>\n",
       "    <tr>\n",
       "      <th>26</th>\n",
       "      <td>Slovenia</td>\n",
       "      <td>0.165344</td>\n",
       "    </tr>\n",
       "    <tr>\n",
       "      <th>27</th>\n",
       "      <td>Spain</td>\n",
       "      <td>-2.149159</td>\n",
       "    </tr>\n",
       "    <tr>\n",
       "      <th>28</th>\n",
       "      <td>Sweden</td>\n",
       "      <td>0.526100</td>\n",
       "    </tr>\n",
       "    <tr>\n",
       "      <th>29</th>\n",
       "      <td>UK</td>\n",
       "      <td>5.373409</td>\n",
       "    </tr>\n",
       "  </tbody>\n",
       "</table>\n",
       "</div>"
      ],
      "text/plain": [
       "         Country  Budget_External_Studentized_Resid\n",
       "0       Austria                           -0.635678\n",
       "1       Belgium                            0.271117\n",
       "2      Bulgaria                           -0.312134\n",
       "3       Croatia                            0.064435\n",
       "4        Cyprus                           -0.488761\n",
       "5    Czech Rep.                            0.106743\n",
       "6       Denmark                            0.246919\n",
       "7       Estonia                            0.013565\n",
       "8       Finland                            0.153713\n",
       "9        France                            0.964931\n",
       "10      Germany                            2.228483\n",
       "11       Greece                           -0.250248\n",
       "12      Hungary                           -0.718624\n",
       "13      Iceland                            0.125795\n",
       "14      Ireland                            1.146301\n",
       "15        Italy                            1.598579\n",
       "16       Latvia                           -0.350908\n",
       "17    Lithuania                           -0.015987\n",
       "18   Luxembourg                            0.402290\n",
       "19        Malta                           -0.619861\n",
       "20  Netherlands                            1.259470\n",
       "21       Norway                            0.191503\n",
       "22       Poland                            0.240842\n",
       "23     Portugal                            0.012534\n",
       "24      Romania                           -0.814500\n",
       "25     Slovakia                           -0.122969\n",
       "26     Slovenia                            0.165344\n",
       "27        Spain                           -2.149159\n",
       "28       Sweden                            0.526100\n",
       "29            UK                           5.373409"
      ]
     },
     "execution_count": 30,
     "metadata": {},
     "output_type": "execute_result"
    }
   ],
   "source": [
    "df_outliers_by_budget"
   ]
  },
  {
   "cell_type": "markdown",
   "metadata": {},
   "source": [
    "## Linear regression w/o UK"
   ]
  },
  {
   "cell_type": "code",
   "execution_count": 32,
   "metadata": {},
   "outputs": [],
   "source": [
    "lm_2 = smf.OLS(df_temp.Budget[:-1], df_temp.Fines[:-1]).fit()"
   ]
  },
  {
   "cell_type": "code",
   "execution_count": 34,
   "metadata": {
    "scrolled": false
   },
   "outputs": [
    {
     "name": "stdout",
     "output_type": "stream",
     "text": [
      "                            OLS Regression Results                            \n",
      "==============================================================================\n",
      "Dep. Variable:                 Budget   R-squared:                       0.693\n",
      "Model:                            OLS   Adj. R-squared:                  0.682\n",
      "Method:                 Least Squares   F-statistic:                     63.23\n",
      "Date:                Mon, 12 Oct 2020   Prob (F-statistic):           1.17e-08\n",
      "Time:                        12:30:26   Log-Likelihood:                -506.64\n",
      "No. Observations:                  29   AIC:                             1015.\n",
      "Df Residuals:                      28   BIC:                             1017.\n",
      "Df Model:                           1                                         \n",
      "Covariance Type:            nonrobust                                         \n",
      "==============================================================================\n",
      "                 coef    std err          t      P>|t|      [0.025      0.975]\n",
      "------------------------------------------------------------------------------\n",
      "Fines        2.81e+05   3.53e+04      7.952      0.000    2.09e+05    3.53e+05\n",
      "==============================================================================\n",
      "Omnibus:                        1.162   Durbin-Watson:                   1.900\n",
      "Prob(Omnibus):                  0.559   Jarque-Bera (JB):                0.272\n",
      "Skew:                           0.006   Prob(JB):                        0.873\n",
      "Kurtosis:                       3.475   Cond. No.                         1.00\n",
      "==============================================================================\n",
      "\n",
      "Warnings:\n",
      "[1] Standard Errors assume that the covariance matrix of the errors is correctly specified.\n"
     ]
    }
   ],
   "source": [
    "print(lm_2.summary())"
   ]
  },
  {
   "cell_type": "code",
   "execution_count": 42,
   "metadata": {},
   "outputs": [],
   "source": [
    "import matplotlib.pyplot as plt\n",
    "import numpy as np"
   ]
  },
  {
   "cell_type": "code",
   "execution_count": 45,
   "metadata": {},
   "outputs": [],
   "source": [
    "indices = np.argsort(df_temp.Fines)\n",
    "sort_fine = np.sort(df_temp.Fines)"
   ]
  },
  {
   "cell_type": "code",
   "execution_count": 50,
   "metadata": {},
   "outputs": [
    {
     "data": {
      "text/plain": [
       "<matplotlib.legend.Legend at 0x7ffa14ae38d0>"
      ]
     },
     "execution_count": 50,
     "metadata": {},
     "output_type": "execute_result"
    },
    {
     "data": {
      "image/png": "[encoded data removed]",
      "text/plain": [
       "<Figure size 864x576 with 1 Axes>"
      ]
     },
     "metadata": {},
     "output_type": "display_data"
    }
   ],
   "source": [
    "%matplotlib inline \n",
    "plt.rcParams['figure.figsize'] = (12, 8)\n",
    "plt.scatter(sort_fine, df_temp.Budget[indices], label = \"Country Data\")\n",
    "plt.plot(sort_fine, lm.predict(sort_fine), label = \"Actual regression\")\n",
    "plt.plot(sort_fine, lm_2.predict(sort_fine), label = \"Adjusted regression\")\n",
    "plt.ylabel(\"Budgets\")\n",
    "plt.xlabel(\"Fines\")\n",
    "plt.legend()"
   ]
  },
  {
   "cell_type": "code",
   "execution_count": 67,
   "metadata": {},
   "outputs": [],
   "source": [
    "fineDB = pd.read_csv('finedb.csv')"
   ]
  },
  {
   "cell_type": "code",
   "execution_count": 68,
   "metadata": {},
   "outputs": [],
   "source": [
    "artDb = fineDB[['Fine', 'QuotedArt']]"
   ]
  },
  {
   "cell_type": "code",
   "execution_count": 69,
   "metadata": {},
   "outputs": [],
   "source": [
    "artDb = artDb.join(artDb.QuotedArt.str.replace(\"\\n\", \"\").replace(\"\\xa0\", \" \").str.split(\",\",expand=True))"
   ]
  },
  {
   "cell_type": "code",
   "execution_count": 66,
   "metadata": {
    "scrolled": true
   },
   "outputs": [
    {
     "data": {
      "text/plain": [
       "'Art. 9'"
      ]
     },
     "execution_count": 66,
     "metadata": {},
     "output_type": "execute_result"
    }
   ],
   "source": [
    "' Art. 9 '.strip()"
   ]
  },
  {
   "cell_type": "code",
   "execution_count": null,
   "metadata": {},
   "outputs": [],
   "source": [
    "artDb[0].unique()"
   ]
  },
  {
   "cell_type": "code",
   "execution_count": 15,
   "metadata": {},
   "outputs": [],
   "source": [
    "quotedArt = artDb.QuotedArt"
   ]
  },
  {
   "cell_type": "code",
   "execution_count": 17,
   "metadata": {},
   "outputs": [],
   "source": [
    "totalQuotedArt = []\n",
    "for art in quotedArt:\n",
    "    totalQuotedArt.extend(art.split(','))"
   ]
  },
  {
   "cell_type": "code",
   "execution_count": 70,
   "metadata": {},
   "outputs": [],
   "source": [
    "totalUniqueQuotedArt = []\n",
    "for i in range(6):\n",
    "    totalUniqueQuotedArt.extend(artDb[i].unique())"
   ]
  },
  {
   "cell_type": "code",
   "execution_count": 75,
   "metadata": {},
   "outputs": [],
   "source": [
    "artDb.columns = ['Fine', 'QuotedArt', '0', '1', '2', '3', '4', '5']"
   ]
  },
  {
   "cell_type": "code",
   "execution_count": 80,
   "metadata": {},
   "outputs": [],
   "source": [
    "newArtDb = pd.melt(artDb, id_vars=['Fine', 'QuotedArt'])"
   ]
  },
  {
   "cell_type": "code",
   "execution_count": 92,
   "metadata": {},
   "outputs": [],
   "source": [
    "newArtDb = newArtDb.dropna()"
   ]
  },
  {
   "cell_type": "code",
   "execution_count": 97,
   "metadata": {
    "scrolled": true
   },
   "outputs": [
    {
     "name": "stderr",
     "output_type": "stream",
     "text": [
      "/Users/rainyleon/anaconda3/lib/python3.6/site-packages/ipykernel_launcher.py:1: SettingWithCopyWarning: \n",
      "A value is trying to be set on a copy of a slice from a DataFrame.\n",
      "Try using .loc[row_indexer,col_indexer] = value instead\n",
      "\n",
      "See the caveats in the documentation: http://pandas.pydata.org/pandas-docs/stable/indexing.html#indexing-view-versus-copy\n",
      "  \"\"\"Entry point for launching an IPython kernel.\n"
     ]
    }
   ],
   "source": [
    "newArtDb['value'] = newArtDb['value'].apply(lambda x: str(x).strip())"
   ]
  },
  {
   "cell_type": "code",
   "execution_count": 104,
   "metadata": {},
   "outputs": [],
   "source": [
    "newArtDb.to_csv(\"pivotedFineData.csv\", index=False)"
   ]
  },
  {
   "cell_type": "code",
   "execution_count": 101,
   "metadata": {},
   "outputs": [
    {
     "data": {
      "text/plain": [
       "65"
      ]
     },
     "execution_count": 101,
     "metadata": {},
     "output_type": "execute_result"
    }
   ],
   "source": [
    "len(newArtDb.value.unique())"
   ]
  },
  {
   "cell_type": "code",
   "execution_count": 106,
   "metadata": {
    "scrolled": true
   },
   "outputs": [
    {
     "name": "stderr",
     "output_type": "stream",
     "text": [
      "/Users/rainyleon/anaconda3/lib/python3.6/site-packages/ipykernel_launcher.py:1: SettingWithCopyWarning: \n",
      "A value is trying to be set on a copy of a slice from a DataFrame.\n",
      "Try using .loc[row_indexer,col_indexer] = value instead\n",
      "\n",
      "See the caveats in the documentation: http://pandas.pydata.org/pandas-docs/stable/indexing.html#indexing-view-versus-copy\n",
      "  \"\"\"Entry point for launching an IPython kernel.\n"
     ]
    }
   ],
   "source": [
    "newArtDb['value'] = newArtDb['value'].apply(lambda x: str(x).strip()[:7].strip())"
   ]
  },
  {
   "cell_type": "code",
   "execution_count": 107,
   "metadata": {},
   "outputs": [],
   "source": [
    "newArtDb.to_csv(\"wellPivotedFineData.csv\", index=False)"
   ]
  },
  {
   "cell_type": "code",
   "execution_count": null,
   "metadata": {},
   "outputs": [],
   "source": [
    "newArtDb[newArtDb.QuotedArt] = df_obj.apply(lambda x: x.str.strip())"
   ]
  }
 ],
 "metadata": {
  "kernelspec": {
   "display_name": "Python 3",
   "language": "python",
   "name": "python3"
  },
  "language_info": {
   "codemirror_mode": {
    "name": "ipython",
    "version": 3
   },
   "file_extension": ".py",
   "mimetype": "text/x-python",
   "name": "python",
   "nbconvert_exporter": "python",
   "pygments_lexer": "ipython3",
   "version": "3.6.8"
  }
 },
 "nbformat": 4,
 "nbformat_minor": 2
}
